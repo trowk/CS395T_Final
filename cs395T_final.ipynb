{
  "cells": [
    {
      "cell_type": "markdown",
      "metadata": {
        "id": "K-PENLc5eu0w"
      },
      "source": [
        "# Install Dependencies"
      ]
    },
    {
      "cell_type": "markdown",
      "metadata": {},
      "source": [
        "This notebook was used to specifically test experiments for the Alternating Variant of the Mixture Model. In this notebook, we create a Mixture Model composed of a Convolutional Network and Vision Transformer combined into a block. The results of the experiment are shown in a table and plots. "
      ]
    },
    {
      "cell_type": "code",
      "execution_count": null,
      "metadata": {
        "id": "QKReJ8jlesGP"
      },
      "outputs": [],
      "source": [
        "!pip install vit-pytorch\n",
        "!pip install tabulate"
      ]
    },
    {
      "cell_type": "markdown",
      "metadata": {
        "id": "xL4AuNm1vHAd"
      },
      "source": [
        "# Datasets\n",
        "\n",
        "* CIFAR-10"
      ]
    },
    {
      "cell_type": "code",
      "execution_count": null,
      "metadata": {
        "id": "Bl5F0ETMuYlN"
      },
      "outputs": [],
      "source": [
        "import os\n",
        "import numpy as np\n",
        "import torch\n",
        "import torch.nn.functional as F\n",
        "import torch.optim as optim\n",
        "from torchvision import datasets, transforms\n",
        "from tqdm.notebook import tqdm\n",
        "\n",
        "def DataLoaders(dataset = \"CF-10\", data_root = \"./\", batch_size = 16):\n",
        "  transform_train = transforms.Compose([\n",
        "        transforms.RandomHorizontalFlip(p = 0.5),\n",
        "        transforms.ColorJitter(brightness=0.5, hue = 0.25),\n",
        "        transforms.ToTensor(),\n",
        "      ])\n",
        "\n",
        "  transform_test = transforms.Compose([\n",
        "      transforms.ToTensor(),\n",
        "  ])\n",
        "  root_dir = os.path.join(data_root, dataset)\n",
        "  if dataset == \"CF-10\":\n",
        "    train_dataset = datasets.CIFAR10(root=root_dir, train=True, download=True, transform=transform_train)\n",
        "    test_dataset = datasets.CIFAR10(root=root_dir, train=False, download=True, transform=transform_test)\n",
        "\n",
        "    train_loader = torch.utils.data.DataLoader(train_dataset, batch_size=batch_size, shuffle=True)\n",
        "    test_loader = torch.utils.data.DataLoader(test_dataset, batch_size=batch_size)\n",
        "  \n",
        "    return train_loader, test_loader "
      ]
    },
    {
      "cell_type": "code",
      "execution_count": null,
      "metadata": {
        "id": "T5ix8RAxxuAY"
      },
      "outputs": [],
      "source": [
        "def GetNumberParameters(model):\n",
        "  return sum(np.prod(p.shape).item() for p in model.parameters())"
      ]
    },
    {
      "cell_type": "code",
      "execution_count": null,
      "metadata": {
        "id": "1dWI3UShOwDa"
      },
      "outputs": [],
      "source": [
        "def save_model(model, file_name):\n",
        "    from torch import save\n",
        "    from os import path\n",
        "    print(\"saving\", file_name)\n",
        "    return save(model.state_dict(), file_name)\n",
        "\n",
        "\n",
        "def load_model():\n",
        "    from torch import load\n",
        "    from os import path\n",
        "    r = CNNClassifier()\n",
        "    r.load_state_dict(load(path.join(path.dirname(path.abspath(__file__)), 'cnn.th'), map_location='cpu'))\n",
        "    return r"
      ]
    },
    {
      "cell_type": "code",
      "execution_count": null,
      "metadata": {
        "id": "6feP4KrbQ70v"
      },
      "outputs": [],
      "source": [
        "def accuracy(outputs, labels):\n",
        "    outputs_idx = outputs.max(1)[1].type_as(labels)\n",
        "    return outputs_idx.eq(labels).float().mean()"
      ]
    },
    {
      "cell_type": "code",
      "execution_count": null,
      "metadata": {
        "id": "fcKNCqgRwhRM"
      },
      "outputs": [],
      "source": [
        "train_loader, test_loader = DataLoaders(\"CF-10\", batch_size = 128)"
      ]
    },
    {
      "cell_type": "markdown",
      "metadata": {
        "id": "4ibSjJaq0Q1b"
      },
      "source": [
        "# Model Architecture"
      ]
    },
    {
      "cell_type": "markdown",
      "metadata": {
        "id": "ntxAbwz3Jv3s"
      },
      "source": [
        "## Alternating Variant"
      ]
    },
    {
      "cell_type": "code",
      "execution_count": null,
      "metadata": {
        "colab": {
          "base_uri": "https://localhost:8080/"
        },
        "id": "CddQOIJkbi80",
        "outputId": "04d682ed-1b30-4dc6-87b3-ecb93e0fbb76"
      },
      "outputs": [
        {
          "name": "stdout",
          "output_type": "stream",
          "text": [
            "torch.Size([16, 10])\n"
          ]
        }
      ],
      "source": [
        "from vit_pytorch import ViT\n",
        "import torchvision\n",
        "from vit_pytorch import ViT\n",
        "import torchvision.models as models\n",
        "\n",
        "class MMBlock(torch.nn.Module):\n",
        "  def __init__(self, image_size = 32, num_labels = 10, depth = 1, att_heads = 1, mlp_dim = 2048, output_dim = 1024):\n",
        "    super().__init__()\n",
        "    self.conv_net = torch.nn.Sequential(\n",
        "            torch.nn.Conv2d(3, 32, 15, stride = 2, padding = 2),\n",
        "            torch.nn.BatchNorm2d(32),\n",
        "            torch.nn.ReLU(),\n",
        "            torch.nn.Conv2d(32, 32, 3, stride = 1, padding = 1),\n",
        "            torch.nn.BatchNorm2d(32),\n",
        "            torch.nn.ReLU(),\n",
        "            torch.nn.Conv2d(32, 128, 3, stride = 1, padding = 1),\n",
        "            torch.nn.BatchNorm2d(128),\n",
        "            torch.nn.ReLU(),\n",
        "            torch.nn.Conv2d(128, 128, 3, stride = 1, padding = 1),\n",
        "            torch.nn.BatchNorm2d(128),\n",
        "            torch.nn.ReLU(),\n",
        "            torch.nn.Conv2d(128, 128, 3, stride = 1, padding = 1),\n",
        "            torch.nn.BatchNorm2d(128),\n",
        "            torch.nn.ReLU(),\n",
        "            torch.nn.ConvTranspose2d(128, 3, kernel_size=4, stride=3, padding=1),\n",
        "            torch.nn.BatchNorm2d(3)\n",
        "    )\n",
        "\n",
        "    self.vision_transformer = ViT(\n",
        "        image_size = image_size,\n",
        "        patch_size = image_size // 16,\n",
        "        num_classes = num_labels,\n",
        "        dim = output_dim,\n",
        "        depth = depth,\n",
        "        heads = att_heads,\n",
        "        mlp_dim = mlp_dim,\n",
        "        dropout = 0.1,\n",
        "        emb_dropout = 0.1\n",
        "    )\n",
        "    self.vision_transformer = torch.nn.Sequential(*(list(self.vision_transformer.children())[:-1]))\n",
        "\n",
        "    self.upsample_vit = torch.nn.Sequential(\n",
        "            torch.nn.ConvTranspose2d(256, 3, kernel_size=3, stride=1, padding = 1),\n",
        "            torch.nn.BatchNorm2d(3))\n",
        "\n",
        "  def forward(self, x):\n",
        "    res = self.conv_net(x)\n",
        "    res = self.vision_transformer(res)\n",
        "    res = res[:, :, :, None]\n",
        "    dim = int(res.shape[2] ** 0.5)\n",
        "    res = res.view(res.shape[0], res.shape[1], dim, dim)\n",
        "\n",
        "    return self.upsample_vit(res)\n",
        "\n",
        "class AlternatingMixtureModel(torch.nn.Module):\n",
        "    def __init__(self, num_blocks = 1, image_size = 32, num_labels = 10, depth = 1, att_heads = 1, mlp_dim = 2048, output_dim = 1024):\n",
        "        super().__init__()\n",
        "        self.blocks =  []\n",
        "        for i in range(num_blocks):\n",
        "            self.blocks.append(MMBlock(image_size = image_size, num_labels = num_labels, depth = depth, att_heads = att_heads, mlp_dim = mlp_dim, output_dim = output_dim))\n",
        "        self.ffn = torch.nn.Linear(3 * 32 * 32, 10)\n",
        "        self.MM = torch.nn.Sequential(*self.blocks)\n",
        "      \n",
        "    def forward(self, x):\n",
        "      return self.ffn(self.MM(x).flatten(start_dim = 1))\n",
        "\n",
        "device = torch.device('cuda' if torch.cuda.is_available() else 'cpu')\n",
        "model = AlternatingMixtureModel(2).to(device)\n",
        "img = torch.randn(16, 3, 32, 32).to(device)\n",
        "print(model(img).shape)"
      ]
    },
    {
      "cell_type": "markdown",
      "metadata": {
        "id": "JT9QP5tx0cSJ"
      },
      "source": [
        "# Alternating Variant with Residual Connections"
      ]
    },
    {
      "cell_type": "code",
      "execution_count": null,
      "metadata": {
        "colab": {
          "base_uri": "https://localhost:8080/"
        },
        "id": "CfZL8GZDzjat",
        "outputId": "92c907d1-606a-4a95-d536-db9f6d6c0b66"
      },
      "outputs": [
        {
          "name": "stdout",
          "output_type": "stream",
          "text": [
            "torch.Size([16, 10])\n"
          ]
        }
      ],
      "source": [
        "class ResidualCNNBlock(torch.nn.Module):\n",
        "    def __init__(self, c_in, c_out, should_stride=False):\n",
        "        super().__init__()\n",
        "\n",
        "        if should_stride:\n",
        "            stride = 2\n",
        "        else:\n",
        "            stride = 1\n",
        "\n",
        "        self.block = torch.nn.Sequential(\n",
        "            torch.nn.Conv2d(c_in, c_out, 3, padding=1, stride=stride),\n",
        "            torch.nn.BatchNorm2d(c_out),\n",
        "        ) \n",
        "        \n",
        "        self.relu = torch.nn.ReLU()\n",
        "\n",
        "        if c_in != c_out or should_stride:\n",
        "            self.identity = torch.nn.Conv2d(c_in, c_out, 1, stride=stride)\n",
        "        else:\n",
        "            self.identity = lambda x: x\n",
        "\n",
        "    def forward(self, x):\n",
        "        result = self.block(x)\n",
        "        x = self.identity(x)\n",
        "\n",
        "        return self.relu(x + result)\n",
        "\n",
        "class ResMMBlock(torch.nn.Module):\n",
        "  def __init__(self, image_size = 32, num_labels = 10, depth = 1, att_heads = 1, mlp_dim = 2048, output_dim = 1024):\n",
        "    super().__init__()\n",
        "    self.conv_net = torch.nn.Sequential(\n",
        "              ResidualCNNBlock(3, 32, False),\n",
        "              ResidualCNNBlock(32, 32, False),\n",
        "              ResidualCNNBlock(32, 128, False),\n",
        "              ResidualCNNBlock(128, 128, False),\n",
        "              ResidualCNNBlock(128, 3, False)\n",
        "    )\n",
        "    self.vision_transformer = ViT(\n",
        "        image_size = image_size,\n",
        "        patch_size = image_size // 16,\n",
        "        num_classes = num_labels,\n",
        "        dim = output_dim,\n",
        "        depth = depth,\n",
        "        heads = att_heads,\n",
        "        mlp_dim = mlp_dim,\n",
        "        dropout = 0.1,\n",
        "        emb_dropout = 0.1\n",
        "    )\n",
        "    self.vision_transformer = torch.nn.Sequential(*(list(self.vision_transformer.children())[:-1]))\n",
        "\n",
        "    self.upsample_vit = torch.nn.Sequential(\n",
        "            torch.nn.ConvTranspose2d(256, 3, kernel_size=3, stride=1, padding = 1),\n",
        "            torch.nn.BatchNorm2d(3))\n",
        "\n",
        "  def forward(self, x):\n",
        "    res = self.conv_net(x)\n",
        "    res = self.vision_transformer(res)\n",
        "    res = res[:, :, :, None]\n",
        "    dim = int(res.shape[2] ** 0.5)\n",
        "    res = res.view(res.shape[0], res.shape[1], dim, dim)\n",
        "\n",
        "    return self.upsample_vit(res)\n",
        "\n",
        "class ResAlternatingMixtureModel(torch.nn.Module):\n",
        "    def __init__(self, num_blocks = 1, image_size = 32, num_labels = 10, depth = 1, att_heads = 1, mlp_dim = 2048, output_dim = 1024):\n",
        "        super().__init__()\n",
        "        self.blocks =  []\n",
        "        for i in range(num_blocks):\n",
        "            self.blocks.append(ResMMBlock(image_size = image_size, num_labels = num_labels, depth = depth, att_heads = att_heads, mlp_dim = mlp_dim, output_dim = output_dim))\n",
        "        self.ffn = torch.nn.Linear(3 * 32 * 32, 10)\n",
        "        self.MM = torch.nn.Sequential(*self.blocks)\n",
        "      \n",
        "    def forward(self, x):\n",
        "      return self.ffn(self.MM(x).flatten(start_dim = 1))\n",
        "\n",
        "class ConvNet(torch.nn.Module):\n",
        "  def __init__(self):\n",
        "    super().__init__()\n",
        "    self.conv_net = torch.nn.Sequential(\n",
        "              ResidualCNNBlock(3, 32, False),\n",
        "              ResidualCNNBlock(32, 32, False),\n",
        "              ResidualCNNBlock(32, 128, False),\n",
        "              ResidualCNNBlock(128, 128, False),\n",
        "              ResidualCNNBlock(128, 3, False)\n",
        "    )\n",
        "    self.ffn = torch.nn.Linear(3 * 32 * 32, 10)\n",
        "\n",
        "  def forward (self, x):\n",
        "    return self.ffn(self.conv_net(x).flatten(start_dim = 1))\n",
        "\n",
        "model = ConvNet()\n",
        "print(model(torch.rand(16, 3, 32, 32)).shape)"
      ]
    },
    {
      "cell_type": "markdown",
      "metadata": {
        "id": "LhxmtnEdJz1t"
      },
      "source": [
        "## Joint Variant"
      ]
    },
    {
      "cell_type": "code",
      "execution_count": null,
      "metadata": {
        "colab": {
          "base_uri": "https://localhost:8080/"
        },
        "id": "Tbq_fS0JJ3Hu",
        "outputId": "6dfcb6ff-341b-4372-a7d7-3bd534c7d1ed"
      },
      "outputs": [
        {
          "name": "stdout",
          "output_type": "stream",
          "text": [
            "JointMixtureModel(\n",
            "  (ffn): Linear(in_features=3072, out_features=10, bias=True)\n",
            ")\n"
          ]
        },
        {
          "data": {
            "text/plain": [
              "30730"
            ]
          },
          "execution_count": 8,
          "metadata": {},
          "output_type": "execute_result"
        }
      ],
      "source": [
        "class JointMixtureModel(torch.nn.Module):\n",
        "    def __init__(self, num_blocks = 1, image_size = 32, num_labels = 10, depth = 1, att_heads = 1, mlp_dim = 2048, output_dim = 1024):\n",
        "      super().__init__()\n",
        "      self.blocks = []\n",
        "      device = torch.device('cuda' if torch.cuda.is_available() else 'cpu')\n",
        "      for i in range(num_blocks):\n",
        "        conv_net = torch.nn.Sequential(\n",
        "            torch.nn.Conv2d(3, image_size, 15, stride = 2, padding = 2),\n",
        "            torch.nn.BatchNorm2d(image_size),\n",
        "            torch.nn.ReLU(),\n",
        "            torch.nn.Conv2d(image_size, image_size, 3, stride = 1, padding = 1),\n",
        "            torch.nn.BatchNorm2d(image_size),\n",
        "            torch.nn.ReLU(),\n",
        "            torch.nn.Conv2d(image_size, 128, 3, stride = 1, padding = 1),\n",
        "            torch.nn.BatchNorm2d(128),\n",
        "            torch.nn.ReLU(),\n",
        "            torch.nn.Conv2d(128, 128, 3, stride = 1, padding = 1),\n",
        "            torch.nn.BatchNorm2d(128),\n",
        "            torch.nn.ReLU(),\n",
        "            torch.nn.Conv2d(128, 128, 3, stride = 1, padding = 1),\n",
        "            torch.nn.BatchNorm2d(128),\n",
        "            torch.nn.ReLU(),\n",
        "            torch.nn.ConvTranspose2d(128, 3, kernel_size=4, stride=3, padding=1),\n",
        "            torch.nn.BatchNorm2d(3)\n",
        "        )\n",
        "        vit = ViT(\n",
        "          image_size = image_size,\n",
        "          patch_size = image_size // 16,\n",
        "          num_classes = num_labels,\n",
        "          dim = output_dim,\n",
        "          depth = depth,\n",
        "          heads = att_heads,\n",
        "          mlp_dim = mlp_dim,\n",
        "          dropout = 0.1,\n",
        "          emb_dropout = 0.1\n",
        "        )\n",
        "        vit = torch.nn.Sequential(*(list(vit.children())[:-1]))\n",
        "\n",
        "        upsample_vit = torch.nn.Sequential(\n",
        "            torch.nn.ConvTranspose2d(256, 3, kernel_size=3, stride=1, padding = 1),\n",
        "            torch.nn.BatchNorm2d(3))\n",
        "        conv_net = conv_net.to(device)\n",
        "        vit = vit.to(device)\n",
        "        upsample_vit = upsample_vit.to(device)\n",
        "        self.blocks.append([conv_net, vit, upsample_vit])\n",
        "\n",
        "      self.ffn = torch.nn.Linear(3 * 32 * 32, 10)\n",
        "\n",
        "    def forward(self, x):\n",
        "        input = x\n",
        "        for conv_net, vit, upsample in self.blocks:\n",
        "          res1 = conv_net(input)\n",
        "          res2 = vit(input)\n",
        "          res2 = res2[:, :, :, None]\n",
        "          dim = int(res2.shape[2] ** 0.5)\n",
        "          res2 = res2.view(res2.shape[0], res2.shape[1], dim, dim)\n",
        "          res2 = upsample(res2)\n",
        "\n",
        "          input = res1 + res2\n",
        "        \n",
        "        return self.ffn(input.flatten(start_dim = 1))\n",
        "\n",
        "device = torch.device('cuda' if torch.cuda.is_available() else 'cpu')\n",
        "model = JointMixtureModel(2).to(device)\n",
        "# img = torch.randn(16, 3, 32, 32).to(device)\n",
        "# print(model(img).shape)\n",
        "print(model)\n",
        "GetNumberParameters(model)"
      ]
    },
    {
      "cell_type": "markdown",
      "metadata": {
        "id": "dqPvlEQcuPBV"
      },
      "source": [
        "# Training Code"
      ]
    },
    {
      "cell_type": "code",
      "execution_count": null,
      "metadata": {
        "id": "O7aG6tNbMqnr"
      },
      "outputs": [],
      "source": [
        "lr = 1e-3\n",
        "epochs = 15\n",
        "batch_size = 128\n",
        "num_workers = 2\n",
        "weight_decay = 1e-4\n",
        "# Set up the cuda\n",
        "device = torch.device('cuda' if torch.cuda.is_available() else 'cpu')\n",
        "# model = JointMixtureModel(1).to(device)\n",
        "# model = models.resnet18(pretrained=False).to(device)\n",
        "# model = ResAlternatingMixtureModel(num_blocks=1, depth = 2, att_heads=2)\n",
        "# model = ConvNet()\n",
        "\n",
        "model = ViT(\n",
        "        image_size = 32,\n",
        "        patch_size = 32 // 16,\n",
        "        num_classes = 10,\n",
        "        dim = 1024,\n",
        "        depth = 2,\n",
        "        heads = 2,\n",
        "        mlp_dim = 2048,\n",
        "        dropout = 0.1,\n",
        "        emb_dropout = 0.1\n",
        "    )\n",
        "\n",
        "print(GetNumberParameters(model))\n",
        "model.load_state_dict(torch.load('vit75.th', map_location='cpu'))\n",
        "model = model.to(device)\n",
        "\n",
        "# Set up loss function and optimizer\n",
        "loss_func = torch.nn.CrossEntropyLoss()\n",
        "optim = torch.optim.Adam(model.parameters(), lr=lr, weight_decay = weight_decay)\n",
        "\n",
        "# Set up training data and validation data\n",
        "data_train, data_val = DataLoaders(\"CF-10\", batch_size = batch_size)\n",
        "\n",
        "# Set up loggers\n",
        "# log_dir = '.'\n",
        "# log_time = '{}'.format(time.strftime('%H-%M-%S'))\n",
        "# log_name = 'lr=%s_epoch=%s_batch_size=%s_wd=%s' % (lr, epochs, batch_size, weight_decay)\n",
        "# logger = tb.SummaryWriter()\n",
        "# train_logger = tb.SummaryWriter(path.join(log_dir, 'train') + '/%s_%s' % (log_name, log_time))\n",
        "# valid_logger = tb.SummaryWriter(path.join(log_dir, 'test') + '/%s_%s' % (log_name, log_time))\n",
        "# global_step = 0\n",
        "\n",
        "# Wrap in a progress bar.\n",
        "for epoch in range(epochs):\n",
        "    # print(\"!!!!!!!!!!!!!!EPOCH {}!!!!!!!!!!!!!\".format(epoch))\n",
        "    # Set the model to training mode.\n",
        "    model.train()\n",
        "\n",
        "    train_accuracy_val = list()\n",
        "    for x, y in tqdm(data_train):\n",
        "        x = x.to(device)\n",
        "        y = y.to(device)\n",
        "        y_pred = model(x)\n",
        "        train_accuracy_val.append(accuracy(y_pred, y))\n",
        "\n",
        "        # Compute loss and update model weights.\n",
        "        loss = loss_func(y_pred, y)\n",
        "\n",
        "        loss.backward()\n",
        "        optim.step()\n",
        "        optim.zero_grad()\n",
        "        \n",
        "        # Add loss to TensorBoard.\n",
        "        # train_logger.add_scalar('Loss', loss.item(), global_step=global_step)\n",
        "        # global_step += 1\n",
        "\n",
        "    train_accuracy_total = torch.FloatTensor(train_accuracy_val).mean().item()\n",
        "    # train_logger.add_scalar('Train Accuracy', train_accuracy_total, global_step=global_step)\n",
        "    print(\"Train Accuracy: {:.4f}\".format(train_accuracy_total))\n",
        "\n",
        "    if epoch % 2 == 0:\n",
        "      save_model(model, 'det128_' + str(epoch) + '.th')\n",
        "\n",
        "    # Set the model to eval mode and compute accuracy.\n",
        "    # No need to change this, but feel free to implement additional logging.\n",
        "    model.eval()\n",
        "\n",
        "    accuracys_val = list()\n",
        "\n",
        "    for x, y in data_val:\n",
        "        x = x.to(device)\n",
        "        y = y.to(device)  \n",
        "        y_pred = model(x)\n",
        "        accuracys_val.append(accuracy(y_pred, y))\n",
        " \n",
        "    accuracy_total = torch.FloatTensor(accuracys_val).mean().item()\n",
        "    print(\"Validation Accuracy: {:.4f}\".format(accuracy_total))\n",
        "    # valid_logger.add_scalar('Validation Accuracy', accuracy_total, global_step=global_step)\n"
      ]
    },
    {
      "cell_type": "markdown",
      "metadata": {
        "id": "xHtyXoBfd27w"
      },
      "source": [
        "# Results"
      ]
    },
    {
      "cell_type": "code",
      "execution_count": 3,
      "metadata": {
        "id": "hZc96d63veT-"
      },
      "outputs": [],
      "source": [
        "import matplotlib.pyplot as plt\n",
        "from tabulate import tabulate\n",
        "\n",
        "# Training Time - 3.5 Hours\n",
        "alternating_train = [0.3460, 0.4814, 0.5392, 0.5796, 0.6112, 0.6317, 0.6498, 0.6636, 0.6767, 0.6873, 0.6987, 0.7072, 0.7143, 0.7185, 0.7363, 0.7574, 0.7654, 0.7697, 0.7741, 0.7784, 0.7823, 0.7837, 0.7899, 0.7897, 0.7952, 0.7958, 0.8000, 0.8028, 0.8044, 0.8068]\n",
        "alternating_val =   [0.4508, 0.5146, 0.5618, 0.6039, 0.6403, 0.6510, 0.6603, 0.6749, 0.7004, 0.6987, 0.7125, 0.7028, 0.6819, 0.7281, 0.7237, 0.7448, 0.7572, 0.7534, 0.7389, 0.7671, 0.7710, 0.7533, 0.7543, 0.7647, 0.7731, 0.7701, 0.7988, 0.7729, 0.7783, 0.7739]\n",
        "\n",
        "# Training Time - 24 Minutes\n",
        "resnet18_train =    [0.4416, 0.6000, 0.6605, 0.7019, 0.7274, 0.7457, 0.7679, 0.7801, 0.7930, 0.8052, 0.8168, 0.8244, 0.8378, 0.8447, 0.8552, 0.8571, 0.8696, 0.8744, 0.8829, 0.8885, 0.8942, 0.8986, 0.9014, 0.9082, 0.9122, 0.9171, 0.9163, 0.9181, 0.9273, 0.9267]\n",
        "resnet18_val   =    [0.4323, 0.6299, 0.5923, 0.6545, 0.7077, 0.6743, 0.7096, 0.7310, 0.7203, 0.6823, 0.7497, 0.7206, 0.7609, 0.7618, 0.7568, 0.7738, 0.7618, 0.7714, 0.7742, 0.7678, 0.7411, 0.7782, 0.7877, 0.7632, 0.7744, 0.7705, 0.7758, 0.7898, 0.7663, 0.7643]\n",
        "\n",
        "# Training Time - 56 Minutes\n",
        "conv_net_train =    [0.4112, 0.5449, 0.5886, 0.6155, 0.6364, 0.6512, 0.6671, 0.6775, 0.6876, 0.6943, 0.6994, 0.7115, 0.7165, 0.7223, 0.7290, 0.7340, 0.7395, 0.7458, 0.7531, 0.7551, 0.7635, 0.7674, 0.7701, 0.7729, 0.7781, 0.7825, 0.7869, 0.7901, 0.7915, 0.7994]\n",
        "conv_net_val   =    [0.4741, 0.5763, 0.6090, 0.6274, 0.6399, 0.6457, 0.6320, 0.6406, 0.6677, 0.6671, 0.6709, 0.6794, 0.6850, 0.6679, 0.6631, 0.6782, 0.6782, 0.6742, 0.6881, 0.6800, 0.6721, 0.6799, 0.6787, 0.6868, 0.6643, 0.6818, 0.6855, 0.6774, 0.6791, 0.6709]\n",
        "\n",
        "# Training Time - About 6 Hours!\n",
        "vit_train      =    [0.2052, 0.2709, 0.2850, 0.3179, 0.3614, 0.4153, 0.4812, 0.5354, 0.5735, 0.6017, 0.6154, 0.6388, 0.6495, 0.6465, 0.6508, 0.6551, 0.6530, 0.6670]\n",
        "vit_val        =    [0.2230, 0.3040, 0.3185, 0.3673, 0.3973, 0.4401, 0.5100, 0.5496, 0.5987, 0.6016, 0.6176, 0.6432, 0.6377, 0.6492, 0.6300, 0.6416, 0.6506, 0.6486]\n",
        "\n"
      ]
    },
    {
      "cell_type": "code",
      "execution_count": 13,
      "metadata": {
        "colab": {
          "base_uri": "https://localhost:8080/"
        },
        "id": "Z-PIZgBwb5GE",
        "outputId": "9ce325c6-4f65-4489-b9e6-c620fc4e62c8"
      },
      "outputs": [
        {
          "name": "stdout",
          "output_type": "stream",
          "text": [
            "╒══════════════════════════════════════════╤═══════════════════════╤═════════════════════════════════╤══════════╤════════════════════════╤════════════════════════════════════╤══════════════╕\n",
            "│ Model                                    │   Top-1 Test Accuracy │   Total Training Time (Minutes) │   Epochs │   Number of Parameters │ GPU                                │   Batch Size │\n",
            "╞══════════════════════════════════════════╪═══════════════════════╪═════════════════════════════════╪══════════╪════════════════════════╪════════════════════════════════════╪══════════════╡\n",
            "│ ResNet-18 (Baseline)                     │                0.7898 │                              24 │       30 │               11689512 │ NVIDIA Tesla K80                   │          128 │\n",
            "├──────────────────────────────────────────┼───────────────────────┼─────────────────────────────────┼──────────┼────────────────────────┼────────────────────────────────────┼──────────────┤\n",
            "│ 1 Block Alternating MM (Conv + ViT)      │                0.7988 │                             210 │       30 │                9708095 │ NVIDIA Tesla K80                   │          128 │\n",
            "├──────────────────────────────────────────┼───────────────────────┼─────────────────────────────────┼──────────┼────────────────────────┼────────────────────────────────────┼──────────────┤\n",
            "│ Convolutional NN w/ Residual Connections │                0.6881 │                              56 │       30 │                 234294 │ NVIDIA Tesla K80                   │          128 │\n",
            "├──────────────────────────────────────────┼───────────────────────┼─────────────────────────────────┼──────────┼────────────────────────┼────────────────────────────────────┼──────────────┤\n",
            "│ VIT (2-depth, 2-attention-head)          │                0.6506 │                             360 │       85 │                9743370 │ NVIDIA Tesla K80                   │          128 │\n",
            "├──────────────────────────────────────────┼───────────────────────┼─────────────────────────────────┼──────────┼────────────────────────┼────────────────────────────────────┼──────────────┤\n",
            "│ 2 Block Joint MM (Conv + ViT)            │                0.3018 │                             153 │       50 │               19416190 │ NVIDIA GeForce RTX 3070 Laptop GPU │           32 │\n",
            "├──────────────────────────────────────────┼───────────────────────┼─────────────────────────────────┼──────────┼────────────────────────┼────────────────────────────────────┼──────────────┤\n",
            "│ VIT (2-depth, 4-attention-head)          │                0.5614 │                              78 │       50 │               10791946 │ NVIDIA GeForce RTX 3070 Laptop GPU │           64 │\n",
            "├──────────────────────────────────────────┼───────────────────────┼─────────────────────────────────┼──────────┼────────────────────────┼────────────────────────────────────┼──────────────┤\n",
            "│ 1 Block Joint MM (Conv + ViT)            │                0.3787 │                              70 │       50 │                9708095 │ NVIDIA GeForce RTX 3070 Laptop GPU │           64 │\n",
            "╘══════════════════════════════════════════╧═══════════════════════╧═════════════════════════════════╧══════════╧════════════════════════╧════════════════════════════════════╧══════════════╛\n"
          ]
        }
      ],
      "source": [
        "# cRT Training Approach Results\n",
        "# Batch size = 128, learning rate = 1e-3, epochs = 10, ResNeXT Backbone Network\n",
        "table = [['Model', 'Top-1 Test Accuracy', 'Total Training Time (Minutes)', 'Epochs', \n",
        "         'Number of Parameters', 'GPU', 'Batch Size'], \n",
        "         ['ResNet-18 (Baseline)', 0.7898, 24, 30, 11689512, \"NVIDIA Tesla K80\", 128], \n",
        "         ['1 Block Alternating MM (Conv + ViT) ', 0.7988, 210, 30, 9708095, \"NVIDIA Tesla K80\", 128], \n",
        "         ['Convolutional NN w/ Residual Connections', 0.6881, 56, 30, 234294, \"NVIDIA Tesla K80\", 128], \n",
        "         ['VIT (2-depth, 2-attention-head)', 0.6506, 360, 85, 9743370, \"NVIDIA Tesla K80\", 128],\n",
        "         ['2 Block Joint MM (Conv + ViT)', 0.3018, 153, 50, 19416190, \"NVIDIA GeForce RTX 3070 Laptop GPU\", 32], \n",
        "         ['VIT (2-depth, 4-attention-head)', 0.5614, 78, 50, 10791946, \"NVIDIA GeForce RTX 3070 Laptop GPU\", 64], \n",
        "         ['1 Block Joint MM (Conv + ViT)', 0.3787, 70, 50, 9708095, \"NVIDIA GeForce RTX 3070 Laptop GPU\", 64]]\n",
        "print(tabulate(table, headers='firstrow', tablefmt='fancy_grid'))"
      ]
    },
    {
      "cell_type": "code",
      "execution_count": 7,
      "metadata": {
        "colab": {
          "base_uri": "https://localhost:8080/",
          "height": 320
        },
        "id": "9VfKtECQZEW0",
        "outputId": "0d6cdcd8-33de-42bf-930a-3e3ecace30a0"
      },
      "outputs": [
        {
          "data": {
            "text/plain": [
              "Text(0, 0.5, 'Top-1 Accuracy')"
            ]
          },
          "execution_count": 7,
          "metadata": {},
          "output_type": "execute_result"
        },
        {
          "data": {
            "image/png": "[encoded data removed]",
            "text/plain": [
              "<Figure size 432x288 with 1 Axes>"
            ]
          },
          "metadata": {
            "needs_background": "light"
          },
          "output_type": "display_data"
        }
      ],
      "source": [
        "# Display Mixture Model Results\n",
        "plt.plot(alternating_train)\n",
        "plt.plot(alternating_val)\n",
        "plt.legend([\"Train\", \"Test\"])\n",
        "plt.title(\"Accuracy of Alternating Mixture Model, CIFAR-10\")\n",
        "plt.xlabel('Epoch', fontsize = 18)\n",
        "plt.ylabel('Top-1 Accuracy', fontsize = 18)"
      ]
    },
    {
      "cell_type": "code",
      "execution_count": 8,
      "metadata": {
        "colab": {
          "base_uri": "https://localhost:8080/",
          "height": 320
        },
        "id": "QYl64BonZwpt",
        "outputId": "718886ef-3842-4dd3-a879-dcdf088a08e9"
      },
      "outputs": [
        {
          "data": {
            "text/plain": [
              "Text(0, 0.5, 'Top-1 Accuracy')"
            ]
          },
          "execution_count": 8,
          "metadata": {},
          "output_type": "execute_result"
        },
        {
          "data": {
            "image/png": "[encoded data removed]",
            "text/plain": [
              "<Figure size 432x288 with 1 Axes>"
            ]
          },
          "metadata": {
            "needs_background": "light"
          },
          "output_type": "display_data"
        }
      ],
      "source": [
        "# Display ResNet18 Results\n",
        "plt.plot(resnet18_train)\n",
        "plt.plot(resnet18_val)\n",
        "plt.legend([\"Train\", \"Test\"])\n",
        "plt.title(\"Accuracy of ResNet18, CIFAR-10\")\n",
        "plt.xlabel('Epoch', fontsize = 18)\n",
        "plt.ylabel('Top-1 Accuracy', fontsize = 18)"
      ]
    },
    {
      "cell_type": "code",
      "execution_count": 9,
      "metadata": {
        "colab": {
          "base_uri": "https://localhost:8080/",
          "height": 320
        },
        "id": "yJe2TeJyZ83f",
        "outputId": "7d03f47c-d3ae-4fae-f954-c2696f138ee9"
      },
      "outputs": [
        {
          "data": {
            "text/plain": [
              "Text(0, 0.5, 'Top-1 Accuracy')"
            ]
          },
          "execution_count": 9,
          "metadata": {},
          "output_type": "execute_result"
        },
        {
          "data": {
            "image/png": "[encoded data removed]",
            "text/plain": [
              "<Figure size 432x288 with 1 Axes>"
            ]
          },
          "metadata": {
            "needs_background": "light"
          },
          "output_type": "display_data"
        }
      ],
      "source": [
        "# Display Results when Only use Convolutional Network of Mixture Model\n",
        "plt.plot(conv_net_train)\n",
        "plt.plot(conv_net_val)\n",
        "plt.legend([\"Train\", \"Test\"])\n",
        "plt.title(\"Accuracy of Just Convolutional Network, CIFAR-10\")\n",
        "plt.xlabel('Epoch', fontsize = 18)\n",
        "plt.ylabel('Top-1 Accuracy', fontsize = 18)"
      ]
    },
    {
      "cell_type": "code",
      "execution_count": 19,
      "metadata": {
        "colab": {
          "base_uri": "https://localhost:8080/",
          "height": 320
        },
        "id": "1CBqhrzlae22",
        "outputId": "c413e061-dcc3-445f-a23f-e164b7de1749"
      },
      "outputs": [
        {
          "data": {
            "text/plain": [
              "Text(0, 0.5, 'Top-1 Accuracy')"
            ]
          },
          "execution_count": 19,
          "metadata": {},
          "output_type": "execute_result"
        },
        {
          "data": {
            "image/png": "[encoded data removed]",
            "text/plain": [
              "<Figure size 432x288 with 1 Axes>"
            ]
          },
          "metadata": {
            "needs_background": "light"
          },
          "output_type": "display_data"
        }
      ],
      "source": [
        "# Display Results when Only use Vision Transformer of Mixture Model\n",
        "plt.plot([1, 5, 10, 15, 20, 25, 30, 35, 40, 45, 50, 55, 60, 65, 70, 75, 80, 85], vit_train)\n",
        "plt.plot([1, 5, 10, 15, 20, 25, 30, 35, 40, 45, 50, 55, 60, 65, 70, 75, 80, 85], vit_val)\n",
        "plt.legend([\"Train\", \"Test\"])\n",
        "plt.title(\"Accuracy of Alternating Mixture Model, CIFAR-10\")\n",
        "plt.xlabel('Epoch', fontsize = 18)\n",
        "plt.ylabel('Top-1 Accuracy', fontsize = 18)"
      ]
    }
  ],
  "metadata": {
    "accelerator": "GPU",
    "colab": {
      "collapsed_sections": [
        "ntxAbwz3Jv3s",
        "LhxmtnEdJz1t"
      ],
      "name": "cs395T_final_alternating_experiments.pynb",
      "provenance": []
    },
    "kernelspec": {
      "display_name": "Python 3",
      "name": "python3"
    },
    "language_info": {
      "name": "python"
    }
  },
  "nbformat": 4,
  "nbformat_minor": 0
}
